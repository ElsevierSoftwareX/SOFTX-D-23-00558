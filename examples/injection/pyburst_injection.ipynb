{
 "cells": [
  {
   "cell_type": "code",
   "execution_count": null,
   "metadata": {
    "collapsed": true
   },
   "outputs": [],
   "source": [
    "import os\n",
    "\n",
    "import pyburst\n",
    "from pyburst.config import Config\n",
    "from pyburst.utils import logger_init\n",
    "\n",
    "if not os.environ.get('HOME_WAT_FILTERS'):\n",
    "    pyburst_path = os.path.dirname(os.path.abspath(pyburst.__file__))\n",
    "    os.environ['HOME_WAT_FILTERS'] = f\"{os.path.abspath(pyburst_path)}/vendor\"\n",
    "\n",
    "logger_init()\n",
    "\n",
    "config = Config('./user_parameters_injection.yaml')\n",
    "config.ifo, config.injection"
   ]
  },
  {
   "cell_type": "markdown",
   "source": [
    "## generate injected data for each detector with given parameters in config"
   ],
   "metadata": {
    "collapsed": false
   }
  },
  {
   "cell_type": "code",
   "execution_count": null,
   "outputs": [],
   "source": [
    "from pyburst.modules.read_data import generate_injection, generate_noise\n",
    "\n",
    "data = generate_injection(config)\n",
    "data"
   ],
   "metadata": {
    "collapsed": false
   }
  },
  {
   "cell_type": "code",
   "execution_count": null,
   "outputs": [],
   "source": [
    "# plot the pycbc time series for L1\n",
    "data[0].plot()"
   ],
   "metadata": {
    "collapsed": false
   }
  },
  {
   "cell_type": "markdown",
   "source": [
    "## apply data conditioning to the data"
   ],
   "metadata": {
    "collapsed": false
   }
  },
  {
   "cell_type": "code",
   "execution_count": null,
   "outputs": [],
   "source": [
    "from pyburst.modules.data_conditioning import data_conditioning\n",
    "from pyburst.modules.plot import plot_spectrogram\n",
    "\n",
    "strains, nRMS = data_conditioning(config, data)\n",
    "\n",
    "# plot the spectrogram for L1\n",
    "plt = plot_spectrogram(strains[0], gwpy_plot=True)\n",
    "ax = plt.gca()\n",
    "ax.set_ylim(15,1024)\n",
    "\n",
    "strains, nRMS"
   ],
   "metadata": {
    "collapsed": false
   }
  },
  {
   "cell_type": "markdown",
   "source": [
    "## create network and wdm for each resolution"
   ],
   "metadata": {
    "collapsed": false
   }
  },
  {
   "cell_type": "code",
   "execution_count": null,
   "outputs": [],
   "source": [
    "# initialize network\n",
    "from pyburst.modules.network import create_network\n",
    "from pyburst.modules.wavelet import create_wdm_set\n",
    "from pyburst.types import WDMXTalkCatalog\n",
    "\n",
    "job_id = 0\n",
    "\n",
    "wdm_MRA = WDMXTalkCatalog(config.MRAcatalog)\n",
    "wdm_list = create_wdm_set(config, wdm_MRA)\n",
    "net = create_network(job_id, config, strains, nRMS, wdm_MRA)"
   ],
   "metadata": {
    "collapsed": false
   }
  },
  {
   "cell_type": "markdown",
   "source": [
    "## calculate coherence and generate sparse table"
   ],
   "metadata": {
    "collapsed": false
   }
  },
  {
   "cell_type": "code",
   "execution_count": null,
   "outputs": [],
   "source": [
    "from pyburst.modules.coherence import coherence, sparse_table_from_fragment_clusters\n",
    "\n",
    "# calculate coherence\n",
    "fragment_clusters = coherence(config, strains, wdm_list, nRMS)\n",
    "\n",
    "# generate sparse table\n",
    "sparse_table_list = sparse_table_from_fragment_clusters(config, net.getDelay('MAX'),\n",
    "                                                        strains, wdm_list, fragment_clusters)\n"
   ],
   "metadata": {
    "collapsed": false
   }
  },
  {
   "cell_type": "markdown",
   "source": [
    "## supercluster"
   ],
   "metadata": {
    "collapsed": false
   }
  },
  {
   "cell_type": "code",
   "execution_count": null,
   "outputs": [],
   "source": [
    "from pyburst.modules.super_cluster import supercluster\n",
    "\n",
    "pwc_list = supercluster(config, net, wdm_list, fragment_clusters, sparse_table_list)"
   ],
   "metadata": {
    "collapsed": false
   }
  },
  {
   "cell_type": "markdown",
   "source": [
    "## likelihood"
   ],
   "metadata": {
    "collapsed": false
   }
  },
  {
   "cell_type": "code",
   "execution_count": null,
   "outputs": [],
   "source": [
    "!mkdir -p ./output"
   ],
   "metadata": {
    "collapsed": false
   }
  },
  {
   "cell_type": "code",
   "execution_count": null,
   "outputs": [],
   "source": [
    "from pyburst.modules.likelihood import likelihood\n",
    "\n",
    "events, clusters = likelihood(job_id, config, net, pwc_list)"
   ],
   "metadata": {
    "collapsed": false
   }
  },
  {
   "cell_type": "code",
   "execution_count": null,
   "outputs": [],
   "source": [
    "from pyburst.modules.plot import plot_event_on_spectrogram\n",
    "\n",
    "for i, tf_map in enumerate(strains):\n",
    "    plt = plot_event_on_spectrogram(tf_map, events)\n",
    "    plt.show()"
   ],
   "metadata": {
    "collapsed": false
   }
  },
  {
   "cell_type": "code",
   "execution_count": null,
   "outputs": [],
   "source": [],
   "metadata": {
    "collapsed": false
   }
  }
 ],
 "metadata": {
  "kernelspec": {
   "display_name": "Python 3",
   "language": "python",
   "name": "python3"
  },
  "language_info": {
   "codemirror_mode": {
    "name": "ipython",
    "version": 2
   },
   "file_extension": ".py",
   "mimetype": "text/x-python",
   "name": "python",
   "nbconvert_exporter": "python",
   "pygments_lexer": "ipython2",
   "version": "2.7.6"
  }
 },
 "nbformat": 4,
 "nbformat_minor": 0
}
