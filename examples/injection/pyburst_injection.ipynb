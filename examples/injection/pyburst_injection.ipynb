{
 "cells": [
  {
   "cell_type": "code",
   "execution_count": null,
   "metadata": {
    "collapsed": true
   },
   "outputs": [],
   "source": [
    "import os\n",
    "\n",
    "import pyburst\n",
    "from pyburst.config import Config\n",
    "from pyburst.utils import logger_init\n",
    "\n",
    "if not os.environ.get('HOME_WAT_FILTERS'):\n",
    "    pyburst_path = os.path.dirname(os.path.abspath(pyburst.__file__))\n",
    "    os.environ['HOME_WAT_FILTERS'] = f\"{os.path.abspath(pyburst_path)}/vendor\"\n",
    "\n",
    "logger_init()\n",
    "\n",
    "config = Config('./user_parameters_injection.yaml')\n",
    "config.ifo, config.injection"
   ]
  },
  {
   "cell_type": "markdown",
   "metadata": {
    "collapsed": false
   },
   "source": [
    "## generate injected data for each detector with given parameters in config"
   ]
  },
  {
   "cell_type": "code",
   "execution_count": null,
   "metadata": {
    "collapsed": false
   },
   "outputs": [],
   "source": [
    "from pyburst.modules.read_data import generate_injection, generate_noise\n",
    "\n",
    "data = generate_injection(config)\n",
    "data"
   ]
  },
  {
   "cell_type": "code",
   "execution_count": null,
   "metadata": {
    "collapsed": false
   },
   "outputs": [],
   "source": [
    "# plot the pycbc time series for L1\n",
    "data[0].plot()"
   ]
  },
  {
   "cell_type": "markdown",
   "metadata": {
    "collapsed": false
   },
   "source": [
    "## apply data conditioning to the data"
   ]
  },
  {
   "cell_type": "code",
   "execution_count": null,
   "metadata": {
    "collapsed": false
   },
   "outputs": [],
   "source": [
    "from pyburst.modules.data_conditioning import data_conditioning\n",
    "from pyburst.modules.plot import plot_spectrogram\n",
    "\n",
    "strains, nRMS = data_conditioning(config, data)\n",
    "\n",
    "# plot the spectrogram for L1\n",
    "plt = plot_spectrogram(strains[0], gwpy_plot=True)\n",
    "ax = plt.gca()\n",
    "ax.set_ylim(15,1024)\n",
    "\n",
    "strains, nRMS"
   ]
  },
  {
   "cell_type": "markdown",
   "metadata": {
    "collapsed": false
   },
   "source": [
    "## create network and wdm for each resolution"
   ]
  },
  {
   "cell_type": "code",
   "execution_count": null,
   "metadata": {
    "collapsed": false
   },
   "outputs": [],
   "source": [
    "# initialize network\n",
    "from pyburst.modules.wavelet import create_wdm_set\n",
    "from pyburst.types import WDMXTalkCatalog, Network\n",
    "\n",
    "job_id = 0\n",
    "\n",
    "wdm_MRA = WDMXTalkCatalog(config.MRAcatalog)\n",
    "wdm_list = create_wdm_set(config, wdm_MRA)\n",
    "network = Network(config, strains, nRMS, wdm_MRA)"
   ]
  },
  {
   "cell_type": "markdown",
   "metadata": {
    "collapsed": false
   },
   "source": [
    "## calculate coherence and generate sparse table"
   ]
  },
  {
   "cell_type": "code",
   "execution_count": null,
   "metadata": {
    "collapsed": false
   },
   "outputs": [],
   "source": [
    "from pyburst.modules.coherence import coherence, sparse_table_from_fragment_clusters\n",
    "\n",
    "# calculate coherence\n",
    "fragment_clusters = coherence(config, strains, wdm_list, nRMS)\n",
    "\n",
    "# generate sparse table\n",
    "sparse_table_list = sparse_table_from_fragment_clusters(config, network.get_max_delay(),\n",
    "                                                        strains, wdm_list, fragment_clusters)\n"
   ]
  },
  {
   "cell_type": "markdown",
   "metadata": {
    "collapsed": false
   },
   "source": [
    "## supercluster"
   ]
  },
  {
   "cell_type": "code",
   "execution_count": null,
   "metadata": {
    "collapsed": false
   },
   "outputs": [],
   "source": [
    "from pyburst.modules.super_cluster import supercluster\n",
    "\n",
    "pwc_list = supercluster(config, network, wdm_list, fragment_clusters, sparse_table_list)"
   ]
  },
  {
   "cell_type": "markdown",
   "metadata": {
    "collapsed": false
   },
   "source": [
    "## likelihood"
   ]
  },
  {
   "cell_type": "code",
   "execution_count": null,
   "metadata": {
    "collapsed": false
   },
   "outputs": [],
   "source": [
    "!mkdir -p ./output"
   ]
  },
  {
   "cell_type": "code",
   "execution_count": null,
   "metadata": {
    "collapsed": false
   },
   "outputs": [],
   "source": [
    "from pyburst.modules.likelihood import likelihood\n",
    "\n",
    "events, clusters = likelihood(job_id, config, network, pwc_list)"
   ]
  },
  {
   "cell_type": "code",
   "execution_count": null,
   "metadata": {
    "collapsed": false
   },
   "outputs": [],
   "source": [
    "from pyburst.modules.plot import plot_event_on_spectrogram\n",
    "\n",
    "for i, tf_map in enumerate(strains):\n",
    "    plt = plot_event_on_spectrogram(tf_map, events)\n",
    "    plt.show()"
   ]
  },
  {
   "attachments": {},
   "cell_type": "markdown",
   "metadata": {},
   "source": [
    "## plot statistics"
   ]
  },
  {
   "cell_type": "code",
   "execution_count": null,
   "metadata": {
    "collapsed": false
   },
   "outputs": [],
   "source": [
    "from gwpy.spectrogram import Spectrogram\n",
    "\n",
    "for cluster in clusters:\n",
    "    merged_map, start, dt, df = cluster.get_sparse_map(\"likelihood\")\n",
    "\n",
    "    plt = Spectrogram(merged_map, t0=start, dt=dt, f0=0, df=df).plot()\n",
    "    plt.colorbar()"
   ]
  },
  {
   "cell_type": "code",
   "execution_count": null,
   "metadata": {},
   "outputs": [],
   "source": [
    "from gwpy.spectrogram import Spectrogram\n",
    "\n",
    "for cluster in clusters:\n",
    "    merged_map, start, dt, df = cluster.get_sparse_map(\"null\")\n",
    "\n",
    "    plt = Spectrogram(merged_map, t0=start, dt=dt, f0=0, df=df).plot()\n",
    "    plt.colorbar()"
   ]
  }
 ],
 "metadata": {
  "kernelspec": {
   "display_name": "Python 3",
   "language": "python",
   "name": "python3"
  },
  "language_info": {
   "codemirror_mode": {
    "name": "ipython",
    "version": 2
   },
   "file_extension": ".py",
   "mimetype": "text/x-python",
   "name": "python",
   "nbconvert_exporter": "python",
   "pygments_lexer": "ipython2",
   "version": "2.7.6"
  }
 },
 "nbformat": 4,
 "nbformat_minor": 0
}
