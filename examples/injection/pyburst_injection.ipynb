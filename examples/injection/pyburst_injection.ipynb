{
 "cells": [
  {
   "cell_type": "code",
   "execution_count": null,
   "metadata": {
    "collapsed": true
   },
   "outputs": [],
   "source": [
    "import os\n",
    "\n",
    "import pyburst\n",
    "from pyburst.config import Config\n",
    "from pyburst.utils import logger_init\n",
    "\n",
    "if not os.environ.get('HOME_WAT_FILTERS'):\n",
    "    pyburst_path = os.path.dirname(os.path.abspath(pyburst.__file__))\n",
    "    os.environ['HOME_WAT_FILTERS'] = f\"{os.path.abspath(pyburst_path)}/vendor\"\n",
    "\n",
    "logger_init()\n",
    "\n",
    "config = Config('./user_parameters_injection.yaml')\n",
    "config.ifo, config.injection"
   ]
  },
  {
   "cell_type": "markdown",
   "metadata": {
    "collapsed": false
   },
   "source": [
    "## generate injected data for each detector with given parameters in config"
   ]
  },
  {
   "cell_type": "code",
   "execution_count": null,
   "metadata": {
    "collapsed": false
   },
   "outputs": [],
   "source": [
    "from pyburst.modules.read_data import generate_injection\n",
    "from pyburst.modules.job_segment import create_job_segment_from_injection\n",
    "\n",
    "job_segments = create_job_segment_from_injection(config.simulation, config.injection)\n",
    "\n",
    "data = generate_injection(config, job_segments[0])\n",
    "data"
   ]
  },
  {
   "cell_type": "code",
   "execution_count": null,
   "metadata": {
    "collapsed": false
   },
   "outputs": [],
   "source": [
    "# plot the pycbc time series for L1\n",
    "data[0].plot()"
   ]
  },
  {
   "cell_type": "markdown",
   "metadata": {
    "collapsed": false
   },
   "source": [
    "## apply data conditioning to the data"
   ]
  },
  {
   "cell_type": "code",
   "execution_count": null,
   "metadata": {
    "collapsed": false
   },
   "outputs": [],
   "source": [
    "from pyburst.modules.data_conditioning import data_conditioning\n",
    "from pyburst.modules.plot import plot_spectrogram\n",
    "\n",
    "strains, nRMS = data_conditioning(config, data)\n",
    "\n",
    "# plot the spectrogram for L1\n",
    "plt = plot_spectrogram(strains[0], gwpy_plot=True)\n",
    "ax = plt.gca()\n",
    "ax.set_ylim(15,1024)\n",
    "\n",
    "strains, nRMS"
   ]
  },
  {
   "cell_type": "markdown",
   "metadata": {
    "collapsed": false
   },
   "source": [
    "## calculate coherence"
   ]
  },
  {
   "cell_type": "code",
   "execution_count": null,
   "metadata": {
    "collapsed": false
   },
   "outputs": [],
   "source": [
    "from pyburst.modules.coherence import coherence, sparse_table_from_fragment_clusters\n",
    "\n",
    "# calculate coherence\n",
    "fragment_clusters = coherence(config, strains, nRMS)\n"
   ]
  },
  {
   "cell_type": "markdown",
   "metadata": {
    "collapsed": false
   },
   "source": [
    "## supercluster"
   ]
  },
  {
   "cell_type": "code",
   "execution_count": null,
   "metadata": {
    "collapsed": false
   },
   "outputs": [],
   "source": [
    "from pyburst.modules.super_cluster import supercluster\n",
    "from pyburst.types import WDMXTalkCatalog, Network\n",
    "\n",
    "network = Network(config, strains, nRMS)\n",
    "\n",
    "pwc_list = supercluster(config, network, fragment_clusters, strains)"
   ]
  },
  {
   "cell_type": "markdown",
   "metadata": {
    "collapsed": false
   },
   "source": [
    "## likelihood"
   ]
  },
  {
   "cell_type": "code",
   "execution_count": null,
   "metadata": {
    "collapsed": false
   },
   "outputs": [],
   "source": [
    "from pyburst.modules.likelihood import likelihood\n",
    "\n",
    "events, clusters = likelihood(config, network, pwc_list)"
   ]
  },
  {
   "cell_type": "code",
   "execution_count": null,
   "metadata": {
    "collapsed": false
   },
   "outputs": [],
   "source": [
    "from pyburst.modules.plot import plot_event_on_spectrogram\n",
    "\n",
    "for i, tf_map in enumerate(strains):\n",
    "    plt = plot_event_on_spectrogram(tf_map, events)\n",
    "    plt.show()"
   ]
  },
  {
   "attachments": {},
   "cell_type": "markdown",
   "metadata": {},
   "source": [
    "## plot statistics"
   ]
  },
  {
   "cell_type": "code",
   "execution_count": null,
   "metadata": {
    "collapsed": false
   },
   "outputs": [],
   "source": [
    "from gwpy.spectrogram import Spectrogram\n",
    "\n",
    "for cluster in clusters:\n",
    "    merged_map, start, dt, df = cluster.get_sparse_map(\"likelihood\")\n",
    "\n",
    "    plt = Spectrogram(merged_map, t0=start, dt=dt, f0=0, df=df).plot()\n",
    "    plt.colorbar()"
   ]
  },
  {
   "cell_type": "code",
   "execution_count": null,
   "metadata": {},
   "outputs": [],
   "source": [
    "from gwpy.spectrogram import Spectrogram\n",
    "\n",
    "for cluster in clusters:\n",
    "    merged_map, start, dt, df = cluster.get_sparse_map(\"null\")\n",
    "\n",
    "    plt = Spectrogram(merged_map, t0=start, dt=dt, f0=0, df=df).plot()\n",
    "    plt.colorbar()"
   ]
  }
 ],
 "metadata": {
  "kernelspec": {
   "display_name": "Python 3",
   "language": "python",
   "name": "python3"
  },
  "language_info": {
   "codemirror_mode": {
    "name": "ipython",
    "version": 2
   },
   "file_extension": ".py",
   "mimetype": "text/x-python",
   "name": "python",
   "nbconvert_exporter": "python",
   "pygments_lexer": "ipython2",
   "version": "2.7.6"
  }
 },
 "nbformat": 4,
 "nbformat_minor": 0
}
