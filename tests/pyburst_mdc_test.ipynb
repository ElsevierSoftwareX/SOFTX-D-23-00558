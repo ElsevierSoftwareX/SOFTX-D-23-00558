{
 "cells": [
  {
   "cell_type": "code",
   "execution_count": null,
   "metadata": {
    "collapsed": true
   },
   "outputs": [],
   "source": [
    "import copy\n",
    "# set env LD_LIBRARY_PATH to install_path\n",
    "import os\n",
    "install_path = \"/Users/yumengxu/Project/Physics/cwb/cwb_source/tools/install/lib\"\n",
    "# install_path = \"/Users/yumengxu/Project/Physics/cwb/cwb_O4/cwb/tools/install/lib\"\n",
    "os.environ['LD_LIBRARY_PATH'] = install_path\n",
    "\n",
    "# import ROOT\n",
    "#\n",
    "# ROOT.gSystem.Load(\"wavelet\")\n",
    "\n",
    "# load user parameters\n",
    "from pycwb.config import Config, CWBConfig\n",
    "from pycwb import logger_init\n",
    "cwb_config = CWBConfig('./config.ini')\n",
    "cwb_config.export_to_envs()\n",
    "logger_init()\n",
    "\n",
    "config = Config('./user_parameters_mdc.yaml')\n",
    "\n",
    "gps_end_time = 1264131194.580"
   ]
  },
  {
   "cell_type": "code",
   "execution_count": null,
   "metadata": {
    "collapsed": false
   },
   "outputs": [],
   "source": [
    "from pycwb.modules.data_quality import read_seg_list\n",
    "\n",
    "seg = read_seg_list(config.dq_files, 'CWB_CAT1')"
   ]
  },
  {
   "cell_type": "code",
   "execution_count": null,
   "metadata": {
    "collapsed": false
   },
   "outputs": [],
   "source": [
    "from pycwb.modules.read_data import read_from_config\n",
    "\n",
    "data = read_from_config(config)"
   ]
  },
  {
   "cell_type": "code",
   "execution_count": null,
   "metadata": {
    "collapsed": false
   },
   "outputs": [],
   "source": [
    "dc_data = [d.crop(0, d.end_time - d.start_time - 776) for d in data]"
   ]
  },
  {
   "cell_type": "code",
   "execution_count": null,
   "metadata": {
    "collapsed": false
   },
   "outputs": [],
   "source": [
    "from pycwb.modules.data_conditioning import data_conditioning\n",
    "from pycwb.modules.plot import plot_spectrogram\n",
    "\n",
    "tf_maps, nRMS = data_conditioning(config, data)\n",
    "\n",
    "# plot_spectrogram(tf_maps[0], gwpy_plot=True)\n",
    "#\n",
    "# plot_spectrogram(tf_maps[1], gwpy_plot=True)\n",
    "#\n",
    "# plot_spectrogram(tf_maps[0], xmin=1264130816+324, xmax=1264130816+324+65, gwpy_plot=True)\n",
    "# plot_spectrogram(tf_maps[1], xmin=1264130816+324, xmax=1264130816+324+65, gwpy_plot=True)"
   ]
  },
  {
   "cell_type": "code",
   "execution_count": null,
   "metadata": {
    "collapsed": false
   },
   "outputs": [],
   "source": [
    "# load pickled data events.pkl\n",
    "import pickle\n",
    "with open('events.pkl', 'rb') as f:\n",
    "    events = pickle.load(f)\n",
    "events"
   ]
  },
  {
   "cell_type": "code",
   "execution_count": null,
   "metadata": {
    "collapsed": false
   },
   "outputs": [],
   "source": [
    "i = 1\n",
    "boxes = [[e.start[i], e.stop[i], e.low[i], e.high[i]] for e in events if len(e.start) > 0]"
   ]
  },
  {
   "cell_type": "code",
   "execution_count": null,
   "metadata": {
    "collapsed": false
   },
   "outputs": [],
   "source": [
    "import matplotlib.pyplot as plt\n",
    "i = 1\n",
    "plot = plot_spectrogram(tf_maps[i], xmin=1264130816, xmax=1264131592,\n",
    " figsize=(24,6), gwpy_plot=True)\n",
    "\n",
    "# plot boxes on the plot\n",
    "for box in boxes:\n",
    "    ax = plot.gca()\n",
    "    ax.add_patch(plt.Rectangle((box[0], box[2]), box[1] - box[0], box[3] - box[2], linewidth=0.5, fill=False, color='red'))\n",
    "\n",
    "plot.savefig(\"event.png\")\n"
   ]
  },
  {
   "cell_type": "code",
   "execution_count": null,
   "metadata": {
    "collapsed": false
   },
   "outputs": [],
   "source": [
    "self = events[-1]\n",
    "# convert the following string to a nicer output, with 6 digits after the decimal point\n",
    "output = f\"\"\"\n",
    "nevent: \\t {self.nevent}\n",
    "ndim: \\t\\t {self.ndim}\n",
    "run: \\t\\t {self.run}\n",
    "rho: \\t\\t {self.rho[0]}\n",
    "netCC: \\t\\t {self.netcc[0]}\n",
    "netED: \\t\\t {\" \".join(str(x) for x in self.neted)}\n",
    "penalty: \\t {self.penalty}\n",
    "gnet: \\t\\t {self.gnet}\n",
    "anet: \\t\\t {self.anet}\n",
    "inet: \\t\\t {self.inet}\n",
    "likelihood:  {self.likelihood}\n",
    "ecor: \\t\\t {self.ecor}\n",
    "ECOR: \\t\\t {self.ECOR}\n",
    "factor: \\t {self.factor}\n",
    "range: \\t\\t {self.range}\n",
    "mchirp: \\t\\t {self.chirp}\n",
    "norm: \\t\\t {self.norm}\n",
    "usize: \\t\\t {self.usize}\n",
    "\n",
    "ifo: \\t\\t {self.ifo_list}\n",
    "eventID: \\t\\t {self.eventID}\n",
    "rho: \\t\\t {self.rho}\n",
    "type: \\t\\t {self.type}\n",
    "rate: \\t\\t {self.rate}\n",
    "volume: \\t\\t {self.volume}\n",
    "size: \\t\\t {self.size}\n",
    "lag: \\t\\t {self.lag}\n",
    "slag: \\t\\t {self.slag}\n",
    "phi: \\t\\t {self.phi}\n",
    "theta: \\t\\t {self.theta}\n",
    "psi: \\t\\t {self.psi}\n",
    "iota: \\t\\t {self.iota}\n",
    "bp: \\t\\t {self.bp}\n",
    "bx: \\t\\t {self.bx}\n",
    "chirp: \\t\\t {self.chirp}\n",
    "range: \\t\\t {self.range}\n",
    "Deff: \\t\\t {self.Deff}\n",
    "mass: \\t\\t {self.mass}\n",
    "spin: \\t\\t {self.spin}\n",
    "eBBH: \\t\\t {self.eBBH}\n",
    "null: \\t\\t {self.null}\n",
    "strain: \\t\\t {self.strain}\n",
    "hrss: \\t\\t {self.hrss}\n",
    "noise: \\t\\t {self.noise}\n",
    "\n",
    "start: \\t\\t {self.start}\n",
    "stop: \\t\\t {self.stop}\n",
    "left: \\t\\t {self.left}\n",
    "right: \\t\\t {self.right}\n",
    "duration: \\t\\t {self.duration}\n",
    "frequency: \\t\\t {self.frequency}\n",
    "low: \\t\\t {self.low}\n",
    "high: \\t\\t {self.high}\n",
    "bandwidth: \\t\\t {self.bandwidth}\n",
    "\n",
    "snr: \\t\\t {self.snr}\n",
    "xSNR: \\t\\t {self.xSNR}\n",
    "sSNR: \\t\\t {self.sSNR}\n",
    "iSNR: \\t\\t {self.iSNR}\n",
    "oSNR: \\t\\t {self.oSNR}\n",
    "ioSNR: \\t\\t {self.ioSNR}\n",
    "\n",
    "netcc: \\t\\t {self.netcc}\n",
    "neted: \\t\\t {self.neted}\n",
    "        \"\"\"\n",
    "\n",
    "print(output)\n",
    "\n",
    "# save to event.txt\n",
    "with open('event.txt', 'w') as f:\n",
    "    f.write(output)"
   ]
  },
  {
   "cell_type": "code",
   "execution_count": null,
   "metadata": {
    "collapsed": false
   },
   "outputs": [],
   "source": [
    "# gps_end_time_list = [1264131046.0, 1264130902.25, 1264131141.96875, 1264131167.09375, 1264131168.03125, 1264131204.5, 1264131296.375,]\n",
    "# gps_end_time_list.sort()\n",
    "# print(gps_end_time_list)\n",
    "# for t in gps_end_time_list:\n",
    "#     plot_spectrogram(tf_maps[0], xmin=t-30, xmax=t+30, gwpy_plot=True)"
   ]
  },
  {
   "cell_type": "code",
   "execution_count": null,
   "metadata": {
    "collapsed": false
   },
   "outputs": [],
   "source": [
    "# initialize network\n",
    "from pycwb.modules.coherence import create_network\n",
    "net, wdm_list = create_network(1, config, tf_maps, nRMS)"
   ]
  },
  {
   "cell_type": "code",
   "execution_count": null,
   "metadata": {
    "collapsed": false
   },
   "outputs": [],
   "source": [
    "# from pycwb.constants import WDM_BETAORDER, WDM_PRECISION\n",
    "#\n",
    "# net.wdmMRA.BetaOrder, WDM_BETAORDER, WDM_PRECISION, net.wdmMRA.precision\n",
    "\n",
    "# [w.BetaOrder for w in net.wdmList]\n",
    "import ROOT\n",
    "import numpy as np\n",
    "\n",
    "# up_n = config.rateANA // 1024\n",
    "# m_tau = net.getDelay('MAX')\n",
    "# this = ROOT.WSeries(np.double)(tf_maps[0])\n",
    "# ts = ROOT.wavearray(np.double)(tf_maps[0])\n",
    "# w = wdm_list[0]\n",
    "#\n",
    "# xx = ROOT.wavearray(np.double)\n",
    "# tmp = ROOT.WSeries(np.double)()\n",
    "#\n",
    "# xx = ts\n",
    "\n",
    "# this.Forward(ts, w, 0)\n",
    "# tmp.Forward(ts,w)\n",
    "# tmp.setlow(this.getlow())\n",
    "# tmp.sethigh(this.gethigh())\n",
    "# shape=tmp.wdmPacket(net.pattern,'E')\n",
    "# print(shape)\n",
    "# this.max(tmp)\n",
    "# print(ts.getMaxLevel(), ts.getlow(), ts.gethigh())\n",
    "# ts.Forward(ts, w, 0)\n",
    "# print(ts.getMaxLevel(), ts.getlow(), ts.gethigh())\n",
    "# ts.Forward(ts, wdm_list[1], 0)\n",
    "# print(ts.getMaxLevel(), ts.getlow(), ts.gethigh())\n",
    "# ts.Forward(ts, wdm_list[2], 0)\n",
    "# print(ts.getMaxLevel(), ts.getlow(), ts.gethigh())\n",
    "\n",
    "## copy network\n",
    "# import copy\n",
    "# net2 = copy.deepcopy(net)\n",
    "# print(net.pattern, net2.pattern)\n",
    "# net2.pattern = 1\n",
    "# print(net.pattern, net2.pattern)"
   ]
  },
  {
   "cell_type": "code",
   "execution_count": null,
   "metadata": {
    "collapsed": false
   },
   "outputs": [],
   "source": [
    "from pycwb.modules.coherence import coherence, coherence_parallel\n",
    "sparse_table_list, cluster_list = coherence(config, net, tf_maps, wdm_list)"
   ]
  },
  {
   "cell_type": "code",
   "execution_count": null,
   "metadata": {
    "collapsed": false
   },
   "outputs": [],
   "source": [
    "from pycwb.modules.super_cluster import supercluster\n",
    "cluster, pwc_list = supercluster(config, net, wdm_list, cluster_list, sparse_table_list)"
   ]
  },
  {
   "cell_type": "code",
   "execution_count": null,
   "metadata": {
    "collapsed": false
   },
   "outputs": [],
   "source": [
    "# start_net = np.array(pwc_list[0].get(\"start\", 0, 'L', 0))\n",
    "# stop_net = np.array(pwc_list[0].get(\"stop\", 0, 'L', 0))\n",
    "# list(zip(start_net, stop_net - start_net, stop_net))"
   ]
  },
  {
   "cell_type": "code",
   "execution_count": null,
   "metadata": {
    "collapsed": false
   },
   "outputs": [],
   "source": [
    "# list(pwc_list[0].cList[0])\n",
    "# pixels = [pwc_list[0].pList[i] for i in pwc_list[0].cList[1]]\n",
    "# pwc = net.getwc(0)\n",
    "# pwc.clear()\n",
    "# def select_clusters(cluster, c, cluster_id):\n",
    "#     new_cluster_id = 1\n",
    "#     clist = c.cList[cluster_id]\n",
    "#     for pixel in c.pList[clist[0]: clist[-1] + 1]:\n",
    "#         pixel.clusterID = new_cluster_id\n",
    "#         cluster.pList.push_back(pixel)\n",
    "#     cluster.sCuts.push_back(0)\n",
    "#     cluster.cList.push_back(range(clist.size()))\n",
    "#     cluster.cRate.push_back(c.cRate[cluster_id])\n",
    "#     cluster.cTime.push_back(c.cTime[cluster_id])\n",
    "#     cluster.cFreq.push_back(c.cFreq[cluster_id])\n",
    "#     cluster.sArea.push_back(c.sArea[cluster_id])\n",
    "#     cluster.p_Map.push_back(c.p_Map[cluster_id])\n",
    "#     cluster.nTofF.push_back(c.nTofF[cluster_id])\n",
    "#     cluster.p_Ind.push_back(c.p_Ind[cluster_id])\n",
    "#\n",
    "# select_clusters(pwc, pwc_list[0], 1)"
   ]
  },
  {
   "cell_type": "code",
   "execution_count": null,
   "metadata": {
    "collapsed": false
   },
   "outputs": [],
   "source": [
    "from pycwb.modules.netcluster import select_clusters\n",
    "# j = 0\n",
    "#\n",
    "# pwc = net.getwc(j)\n",
    "#\n",
    "# k = 0\n",
    "# pwc.cpf(pwc_list[0])\n",
    "# pwc.clean()\n",
    "# # select_clusters(pwc, pwc_list[j], k)\n",
    "# # pwc.print()\n",
    "# # pwc.setcore(False, 1)\n",
    "# # pwc.loadTDampSSE(net, 'a', config.BATCH, config.BATCH)\n",
    "# # lag = 0\n",
    "# # ID = 0\n",
    "# # net.MRA = True\n",
    "# # net.likelihoodWP(config.search, lag, ID, ROOT.nullptr, config.Search)\n",
    "# pwc.cData.size()"
   ]
  },
  {
   "cell_type": "code",
   "execution_count": null,
   "metadata": {
    "collapsed": false
   },
   "outputs": [],
   "source": [
    "from pycwb.modules.likelihood import likelihood\n",
    "# import cppyy.ll\n",
    "# cppyy.ll.set_signals_as_exception(True)\n",
    "# with cppyy.ll.signals_as_exception():\n",
    "events = likelihood(config, net, sparse_table_list, pwc_list, cluster, wdm_list)"
   ]
  },
  {
   "cell_type": "code",
   "execution_count": null,
   "metadata": {
    "collapsed": false
   },
   "outputs": [],
   "source": [
    "# pwc = net.getwc(0)\n",
    "# start_net = np.array(pwc.get(\"start\", 0, 'L', 0))\n",
    "# stop_net = np.array(pwc.get(\"stop\", 0, 'L', 0))\n",
    "# list(zip(start_net, stop_net - start_net, stop_net))"
   ]
  },
  {
   "cell_type": "code",
   "execution_count": null,
   "metadata": {
    "collapsed": false
   },
   "outputs": [],
   "source": [
    "for event in events:\n",
    "    print(event.start, event.stop, event.duration)\n",
    "    print(event.rho, event.likelihood)"
   ]
  },
  {
   "cell_type": "code",
   "execution_count": null,
   "metadata": {
    "collapsed": false
   },
   "outputs": [],
   "source": [
    "pwc = net.getwc(0)\n",
    "for pcd in pwc.cData:\n",
    "    print(pcd.netRHO)"
   ]
  },
  {
   "cell_type": "code",
   "execution_count": null,
   "metadata": {
    "collapsed": false
   },
   "outputs": [],
   "source": [
    "#pwc.get((char*)\"ID\",0,'S',0)\n",
    "list(pwc.get(\"ID\", 0, 'S', 0))"
   ]
  },
  {
   "cell_type": "code",
   "execution_count": null,
   "metadata": {
    "collapsed": false
   },
   "outputs": [],
   "source": [
    "\n",
    "# from pycwb.modules.netpixel import get_time_frequency\n",
    "# points = [get_time_frequency(cluster_list[0],p) for c in cluster_list for p in c.pList]\n",
    "#\n",
    "# import matplotlib.pyplot as plt\n",
    "# plt.figure(figsize=(12,6))\n",
    "# plt.scatter([p[0] for p in points], [p[1] for p in points])\n",
    "# # xmin=gps_end_time-20, xmax=gps_end_time+30\n",
    "# plt.xlim((gps_end_time-20, gps_end_time+30))\n",
    "# plt.ylim((0,1000))"
   ]
  },
  {
   "cell_type": "code",
   "execution_count": null,
   "metadata": {
    "collapsed": false
   },
   "outputs": [],
   "source": []
  }
 ],
 "metadata": {
  "kernelspec": {
   "display_name": "Python 3",
   "language": "python",
   "name": "python3"
  },
  "language_info": {
   "codemirror_mode": {
    "name": "ipython",
    "version": 2
   },
   "file_extension": ".py",
   "mimetype": "text/x-python",
   "name": "python",
   "nbconvert_exporter": "python",
   "pygments_lexer": "ipython2",
   "version": "2.7.6"
  }
 },
 "nbformat": 4,
 "nbformat_minor": 0
}
