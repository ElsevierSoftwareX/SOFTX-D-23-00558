{
 "cells": [
  {
   "cell_type": "code",
   "execution_count": 1,
   "outputs": [
    {
     "name": "stdout",
     "output_type": "stream",
     "text": [
      "Welcome to JupyROOT 6.26/10\n",
      "2023-02-06 10:50:06,698 - pycwb.config.cwb_config - INFO - Loaded config from ./config.ini\n",
      "2023-02-06 10:50:06,699 - pycwb.config.cwb_config - INFO - Environment variables loaded\n"
     ]
    },
    {
     "data": {
      "text/plain": "['L1', 'H1', 'V1']"
     },
     "execution_count": 1,
     "metadata": {},
     "output_type": "execute_result"
    }
   ],
   "source": [
    "# set env LD_LIBRARY_PATH to install_path\n",
    "install_path = \"/Users/yumengxu/Project/Physics/cwb/cwb_source/tools/install/lib\"\n",
    "\n",
    "import os\n",
    "\n",
    "os.environ['LD_LIBRARY_PATH'] = install_path\n",
    "from pycwb import logger_init\n",
    "logger_init()\n",
    "\n",
    "# load user parameters\n",
    "from pycwb.config import Config, CWBConfig\n",
    "cwb_config = CWBConfig('./config.ini')\n",
    "cwb_config.export_to_envs()\n",
    "config = Config('./user_parameters.yaml')\n",
    "config.ifo"
   ],
   "metadata": {
    "collapsed": false
   }
  },
  {
   "cell_type": "code",
   "execution_count": 2,
   "outputs": [
    {
     "name": "stdout",
     "output_type": "stream",
     "text": [
      "2023-02-06 09:50:07,692 - pycwb.modules - INFO - WDM not found, loading wavelet library\n"
     ]
    },
    {
     "name": "stderr",
     "output_type": "stream",
     "text": [
      "\n",
      "WARNING: version mismatch between CFITSIO header (v4.000999999999999) and linked library (v4.01).\n",
      "\n"
     ]
    }
   ],
   "source": [
    "# load noise from gwf\n",
    "from pycwb.modules.read_data import read_from_gwf\n",
    "noise = [read_from_gwf(i, config, f\"frames/L1H1V1-SimStrain-9311/{ifo}-SimStrain-931158100-600.gwf\", config.channelNamesRaw[i], None, None ) for i, ifo in enumerate(config.ifo)]"
   ],
   "metadata": {
    "collapsed": false
   }
  },
  {
   "cell_type": "code",
   "execution_count": 27,
   "outputs": [],
   "source": [
    "# generate injection from pycbc\n",
    "from pycbc.waveform import get_td_waveform\n",
    "hp, hc = get_td_waveform(approximant=\"IMRPhenomPv3\",\n",
    "                         mass1=20,\n",
    "                         mass2=20,\n",
    "                         spin1z=0.9,\n",
    "                         spin2z=0.4,\n",
    "                         inclination=1.23,\n",
    "                         coa_phase=2.45,\n",
    "                         distance=500,\n",
    "                         delta_t=1.0/noise[0].sample_rate,\n",
    "                         f_lower=32)\n",
    "declination = 0.65\n",
    "right_ascension = 4.67\n",
    "polarization = 2.34\n",
    "gps_end_time = 931158700\n",
    "from pycwb.modules.read_data import project_to_detector\n",
    "strain = project_to_detector(hp, hc, right_ascension, declination, polarization, config.ifo, gps_end_time)"
   ],
   "metadata": {
    "collapsed": false
   }
  },
  {
   "cell_type": "code",
   "execution_count": 28,
   "outputs": [],
   "source": [
    "# inject signal into noise and convert to wavearray\n",
    "injected = [noise[i].add_into(strain[i]) for i in range(len(config.ifo))]\n",
    "\n",
    "from pycwb.utils import convert_pycbc_timeseries_to_wavearray\n",
    "wavearray = [convert_pycbc_timeseries_to_wavearray(d) for d in injected]"
   ],
   "metadata": {
    "collapsed": false
   }
  },
  {
   "cell_type": "code",
   "execution_count": 29,
   "outputs": [],
   "source": [
    "# from pycwb.modules.read_data import read_from_catalog\n",
    "#\n",
    "# data, m, h = read_from_catalog('gwtc-2', 'GW190521', config.ifo)"
   ],
   "metadata": {
    "collapsed": false
   }
  },
  {
   "cell_type": "code",
   "execution_count": 30,
   "outputs": [
    {
     "name": "stdout",
     "output_type": "stream",
     "text": [
      "2023-02-07 11:08:49,040 - pycwb.modules.data_conditioning.whitening - INFO - calculate noise rms\n",
      "2023-02-07 11:08:49,083 - pycwb.modules.data_conditioning.whitening - INFO - high pass filtering at 16Hz\n",
      "2023-02-07 11:08:49,084 - pycwb.modules.data_conditioning.whitening - INFO - whiten  0 phase WSeries\n",
      "2023-02-07 11:08:49,092 - pycwb.modules.data_conditioning.whitening - INFO - whiten 90 phase WSeries\n",
      "2023-02-07 11:08:49,256 - pycwb.modules.data_conditioning.whitening - INFO - calculate noise rms\n",
      "2023-02-07 11:08:49,298 - pycwb.modules.data_conditioning.whitening - INFO - high pass filtering at 16Hz\n",
      "2023-02-07 11:08:49,298 - pycwb.modules.data_conditioning.whitening - INFO - whiten  0 phase WSeries\n",
      "2023-02-07 11:08:49,306 - pycwb.modules.data_conditioning.whitening - INFO - whiten 90 phase WSeries\n",
      "2023-02-07 11:08:49,424 - pycwb.modules.data_conditioning.whitening - INFO - calculate noise rms\n",
      "2023-02-07 11:08:49,461 - pycwb.modules.data_conditioning.whitening - INFO - high pass filtering at 16Hz\n",
      "2023-02-07 11:08:49,462 - pycwb.modules.data_conditioning.whitening - INFO - whiten  0 phase WSeries\n",
      "2023-02-07 11:08:49,469 - pycwb.modules.data_conditioning.whitening - INFO - whiten 90 phase WSeries\n",
      "Filter length = 1537,  norm = 0.9999999999707183\n",
      "Filter length = 1537,  norm = 0.9999999999707183\n",
      "Filter length = 1537,  norm = 0.9999999999707183\n",
      "Filter length = 3073,  norm = 0.9999999999707190\n",
      "Filter length = 3073,  norm = 0.9999999999707190\n",
      "Filter length = 3073,  norm = 0.9999999999707190\n"
     ]
    }
   ],
   "source": [
    "# data conditioning\n",
    "from pycwb.modules.data_conditioning import regression, whitening\n",
    "data_reg = [regression(config, wavearray[i]) for i in range(len(config.ifo))]\n",
    "data_w_reg = [whitening(config, data_reg[i]) for i in range(len(config.ifo))]\n",
    "tf_map = [d['TFmap'] for d in data_w_reg]"
   ],
   "metadata": {
    "collapsed": false
   }
  },
  {
   "cell_type": "code",
   "execution_count": 43,
   "outputs": [
    {
     "data": {
      "text/plain": "array([-64.36390159,  -4.78554271,   5.92781158, ...,\n         1.74333815,  -2.02701283,  -1.2512298 ])"
     },
     "execution_count": 43,
     "metadata": {},
     "output_type": "execute_result"
    },
    {
     "name": "stdout",
     "output_type": "stream",
     "text": [
      "Filter length = 769,  norm = 0.9999999999707193\n"
     ]
    },
    {
     "data": {
      "text/plain": "<Figure size 640x480 with 1 Axes>",
      "image/png": "[encoded data removed]"
     },
     "metadata": {},
     "output_type": "display_data"
    }
   ],
   "source": [
    "from pycwb.utils import WSeries_to_matrix, transform\n",
    "import matplotlib.pyplot as plt\n",
    "import numpy as np\n",
    "w = transform(tf_map[0], 64, 64)\n",
    "w.pWavelet.m_Level\n",
    "# plt.figure(figsize=[6,45], dpi=200.)\n",
    "plt.plot(WSeries_to_matrix(w)[1])\n",
    "plt.plot(WSeries_to_matrix(w)[4])\n",
    "WSeries_to_matrix(w)[4]"
   ],
   "metadata": {
    "collapsed": false
   }
  },
  {
   "cell_type": "code",
   "execution_count": 31,
   "outputs": [
    {
     "name": "stdout",
     "output_type": "stream",
     "text": [
      "2023-02-07 11:08:53,511 - pycwb.modules.coherence.network - INFO - Loading MRA\n",
      "2023-02-07 11:08:53,586 - pycwb.modules.coherence.network - INFO - Filter length = 3.0009765625 (sec)\n",
      "2023-02-07 11:08:53,635 - pycwb.modules.coherence.network - INFO - Filter length = 1.5009765625 (sec)\n",
      "2023-02-07 11:08:53,684 - pycwb.modules.coherence.network - INFO - Filter length = 0.7509765625 (sec)\n",
      "2023-02-07 11:08:53,732 - pycwb.modules.coherence.network - INFO - Filter length = 0.3759765625 (sec)\n",
      "2023-02-07 11:08:53,782 - pycwb.modules.coherence.network - INFO - Filter length = 0.1884765625 (sec)\n",
      "2023-02-07 11:08:53,835 - pycwb.modules.coherence.network - INFO - Filter length = 0.0947265625 (sec)\n",
      "2023-02-07 11:08:53,836 - pycwb.modules.coherence.network - INFO - Initializing network\n",
      "2023-02-07 11:08:53,836 - pycwb.modules.coherence.network - INFO - Adding ifo L1\n",
      "2023-02-07 11:08:53,841 - pycwb.modules.coherence.network - INFO - Adding ifo H1\n",
      "2023-02-07 11:08:53,843 - pycwb.modules.coherence.network - INFO - Adding ifo V1\n",
      "2023-02-07 11:08:53,848 - pycwb.modules.coherence.network - INFO - Setting skymaps\n",
      "2023-02-07 11:08:54,770 - pycwb.modules.coherence.network - INFO - Restoring network parameters\n",
      "2023-02-07 11:08:54,802 - pycwb.modules.coherence.network - INFO - Setting sky mask\n",
      "2023-02-07 11:08:54,805 - pycwb.modules.coherence.network - INFO - lag step: 1.0\n",
      "2023-02-07 11:08:54,806 - pycwb.modules.coherence.network - INFO - number of time lags: 1\n",
      "layers[0] = 8\n",
      "layers[1] = 16\n",
      "layers[2] = 32\n",
      "layers[3] = 64\n",
      "layers[4] = 128\n",
      "layers[5] = 256\n",
      "Filter length = 3073,  norm = 0.9999999999707190\n",
      "Filter length = 1537,  norm = 0.9999999999707183\n",
      "Filter length = 769,  norm = 0.9999999999707193\n",
      "Filter length = 385,  norm = 0.9999999999707196\n",
      "Filter length = 193,  norm = 0.9999999999707189\n",
      "Filter length = 97,  norm = 0.9999999999707130\n",
      "     lag          ifoL1         ifoH1         ifoV1\n",
      "       0        0.00000       0.00000       0.00000\n"
     ]
    }
   ],
   "source": [
    "# initialize network\n",
    "from pycwb.modules.coherence import create_network\n",
    "net, wdm_list = create_network(1, config, data_w_reg)"
   ],
   "metadata": {
    "collapsed": false
   }
  },
  {
   "cell_type": "code",
   "execution_count": 32,
   "outputs": [],
   "source": [
    "# calculate coherence\n",
    "## max energy\n",
    "from pycwb.modules.coherence import max_energy\n",
    "alp_list = max_energy(config, net, tf_map, wdm_list)"
   ],
   "metadata": {
    "collapsed": false
   }
  },
  {
   "cell_type": "code",
   "execution_count": 33,
   "outputs": [
    {
     "name": "stdout",
     "output_type": "stream",
     "text": [
      "2023-02-07 11:09:18,966 - pycwb.modules.coherence.threshold - INFO - thresholds in units of noise variance: Eo=13.6786 Emax=27.3573\n",
      "2023-02-07 11:09:18,967 - pycwb.modules.coherence.threshold - INFO - cwb2G::Coherence -RES:0-THR:13.67863991787454\n",
      "2023-02-07 11:09:18,971 - pycwb.modules.coherence.threshold - INFO - live time in zero lag: 584\n",
      "2023-02-07 11:09:19,498 - pycwb.modules.coherence.threshold - INFO - thresholds in units of noise variance: Eo=13.6786 Emax=27.3573\n",
      "2023-02-07 11:09:19,499 - pycwb.modules.coherence.threshold - INFO - cwb2G::Coherence -RES:1-THR:13.67863991787454\n",
      "2023-02-07 11:09:19,501 - pycwb.modules.coherence.threshold - INFO - live time in zero lag: 584\n",
      "2023-02-07 11:09:20,020 - pycwb.modules.coherence.threshold - INFO - thresholds in units of noise variance: Eo=13.6786 Emax=27.3573\n",
      "2023-02-07 11:09:20,021 - pycwb.modules.coherence.threshold - INFO - cwb2G::Coherence -RES:2-THR:13.67863991787454\n",
      "2023-02-07 11:09:20,023 - pycwb.modules.coherence.threshold - INFO - live time in zero lag: 584\n",
      "2023-02-07 11:09:20,540 - pycwb.modules.coherence.threshold - INFO - thresholds in units of noise variance: Eo=13.6786 Emax=27.3573\n",
      "2023-02-07 11:09:20,541 - pycwb.modules.coherence.threshold - INFO - cwb2G::Coherence -RES:3-THR:13.67863991787454\n",
      "2023-02-07 11:09:20,543 - pycwb.modules.coherence.threshold - INFO - live time in zero lag: 584\n",
      "2023-02-07 11:09:21,059 - pycwb.modules.coherence.threshold - INFO - thresholds in units of noise variance: Eo=13.6786 Emax=27.3573\n",
      "2023-02-07 11:09:21,059 - pycwb.modules.coherence.threshold - INFO - cwb2G::Coherence -RES:4-THR:13.67863991787454\n",
      "2023-02-07 11:09:21,061 - pycwb.modules.coherence.threshold - INFO - live time in zero lag: 584\n",
      "2023-02-07 11:09:21,581 - pycwb.modules.coherence.threshold - INFO - thresholds in units of noise variance: Eo=13.6786 Emax=27.3573\n",
      "2023-02-07 11:09:21,582 - pycwb.modules.coherence.threshold - INFO - cwb2G::Coherence -RES:5-THR:13.67863991787454\n",
      "2023-02-07 11:09:21,584 - pycwb.modules.coherence.threshold - INFO - live time in zero lag: 584\n",
      "\n",
      "m\tM\tbpp\t0.2(D)\t0.2(G)\t0.01(D)\t0.01(G)\tbpp(D)\tbpp(G)\tN*log(m)\tfff\n",
      "2.51\t9\t0.001\t9.685\t9.690\t14.508\t15.332\t17.497\t18.896\t2.761\t\t0.778\n",
      "\n",
      "\n",
      "m\tM\tbpp\t0.2(D)\t0.2(G)\t0.01(D)\t0.01(G)\tbpp(D)\tbpp(G)\tN*log(m)\tfff\n",
      "2.51\t9\t0.001\t9.685\t9.690\t14.508\t15.332\t17.497\t18.896\t2.761\t\t0.778\n",
      "\n",
      "\n",
      "m\tM\tbpp\t0.2(D)\t0.2(G)\t0.01(D)\t0.01(G)\tbpp(D)\tbpp(G)\tN*log(m)\tfff\n",
      "2.51\t9\t0.001\t9.685\t9.690\t14.508\t15.332\t17.497\t18.896\t2.761\t\t0.778\n",
      "\n",
      "\n",
      "m\tM\tbpp\t0.2(D)\t0.2(G)\t0.01(D)\t0.01(G)\tbpp(D)\tbpp(G)\tN*log(m)\tfff\n",
      "2.51\t9\t0.001\t9.685\t9.690\t14.508\t15.332\t17.497\t18.896\t2.761\t\t0.778\n",
      "\n",
      "\n",
      "m\tM\tbpp\t0.2(D)\t0.2(G)\t0.01(D)\t0.01(G)\tbpp(D)\tbpp(G)\tN*log(m)\tfff\n",
      "2.51\t9\t0.001\t9.685\t9.690\t14.508\t15.332\t17.497\t18.896\t2.761\t\t0.778\n",
      "\n",
      "\n",
      "m\tM\tbpp\t0.2(D)\t0.2(G)\t0.01(D)\t0.01(G)\tbpp(D)\tbpp(G)\tN*log(m)\tfff\n",
      "2.51\t9\t0.001\t9.685\t9.690\t14.508\t15.332\t17.497\t18.896\t2.761\t\t0.778\n",
      "\n"
     ]
    }
   ],
   "source": [
    "## threshold\n",
    "from pycwb.modules.coherence import threshold\n",
    "threshold_list = threshold(config, net, alp_list)"
   ],
   "metadata": {
    "collapsed": false
   }
  },
  {
   "cell_type": "code",
   "execution_count": 34,
   "outputs": [
    {
     "name": "stdout",
     "output_type": "stream",
     "text": [
      "2023-02-07 11:09:31,367 - pycwb.modules.coherence.select_pixels - INFO - lag|clusters|pixels \n",
      "lag:  0\n",
      "pixels selected\n",
      "wc got\n",
      "net pattern:  0\n",
      "2023-02-07 11:09:31,381 - pycwb.modules.coherence.select_pixels - INFO -   0|       92|    382 \n",
      "2023-02-07 11:09:31,451 - pycwb.modules.coherence.select_pixels - INFO - lag|clusters|pixels \n",
      "lag:  0\n",
      "pixels selected\n",
      "wc got\n",
      "net pattern:  0\n",
      "2023-02-07 11:09:31,461 - pycwb.modules.coherence.select_pixels - INFO -   0|       92|    382 \n",
      "2023-02-07 11:09:31,520 - pycwb.modules.coherence.select_pixels - INFO - lag|clusters|pixels \n",
      "lag:  0\n",
      "pixels selected\n",
      "wc got\n",
      "net pattern:  0\n",
      "2023-02-07 11:09:31,530 - pycwb.modules.coherence.select_pixels - INFO -   0|       92|    382 \n",
      "2023-02-07 11:09:31,596 - pycwb.modules.coherence.select_pixels - INFO - lag|clusters|pixels \n",
      "lag:  0\n",
      "pixels selected\n",
      "wc got\n",
      "net pattern:  0\n",
      "2023-02-07 11:09:31,607 - pycwb.modules.coherence.select_pixels - INFO -   0|       92|    382 \n",
      "2023-02-07 11:09:31,678 - pycwb.modules.coherence.select_pixels - INFO - lag|clusters|pixels \n",
      "lag:  0\n",
      "pixels selected\n",
      "wc got\n",
      "net pattern:  0\n",
      "2023-02-07 11:09:31,689 - pycwb.modules.coherence.select_pixels - INFO -   0|       92|    382 \n",
      "2023-02-07 11:09:31,753 - pycwb.modules.coherence.select_pixels - INFO - lag|clusters|pixels \n",
      "lag:  0\n",
      "pixels selected\n",
      "wc got\n",
      "net pattern:  0\n",
      "2023-02-07 11:09:31,763 - pycwb.modules.coherence.select_pixels - INFO -   0|       92|    382 \n"
     ]
    }
   ],
   "source": [
    "## select pixels\n",
    "from pycwb.modules.coherence import select_pixels\n",
    "sparse_table_list = select_pixels(config, net, tf_map, wdm_list, threshold_list)"
   ],
   "metadata": {
    "collapsed": false
   }
  },
  {
   "cell_type": "code",
   "execution_count": null,
   "outputs": [],
   "source": [
    "# import cppyy.ll\n",
    "# cppyy.ll.set_signals_as_exception(True)\n",
    "#\n",
    "# with cppyy.ll.signals_as_exception():\n",
    "#     net.getNetworkPixels(0, threshold_list[0])"
   ],
   "metadata": {
    "collapsed": false
   }
  },
  {
   "cell_type": "code",
   "execution_count": null,
   "outputs": [],
   "source": [],
   "metadata": {
    "collapsed": false
   }
  }
 ],
 "metadata": {
  "kernelspec": {
   "display_name": "Python 3",
   "language": "python",
   "name": "python3"
  },
  "language_info": {
   "codemirror_mode": {
    "name": "ipython",
    "version": 2
   },
   "file_extension": ".py",
   "mimetype": "text/x-python",
   "name": "python",
   "nbconvert_exporter": "python",
   "pygments_lexer": "ipython2",
   "version": "2.7.6"
  }
 },
 "nbformat": 4,
 "nbformat_minor": 0
}
